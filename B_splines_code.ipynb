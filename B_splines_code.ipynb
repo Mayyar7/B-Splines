{
 "cells": [
  {
   "cell_type": "markdown",
   "metadata": {
    "colab_type": "text",
    "id": "Ciku-4Dnd8xT"
   },
   "source": [
    "# B-Splines Generation Code notebook\n",
    "The following notebook contains the functions and values used to generate the B-Spline figures shown in the report"
   ]
  },
  {
   "cell_type": "code",
   "execution_count": 2,
   "metadata": {
    "colab": {},
    "colab_type": "code",
    "id": "FwdkjaGBZhyx"
   },
   "outputs": [],
   "source": [
    "from math import *\n",
    "import numpy as np\n",
    "from operator import add\n",
    "import matplotlib.pyplot as plt\n",
    "import time"
   ]
  },
  {
   "cell_type": "markdown",
   "metadata": {
    "colab_type": "text",
    "id": "aeJLQyyeeJOO"
   },
   "source": [
    "## Function to generate coefficients from the knots"
   ]
  },
  {
   "cell_type": "code",
   "execution_count": 3,
   "metadata": {
    "colab": {},
    "colab_type": "code",
    "id": "pzEHTlLMZos1"
   },
   "outputs": [],
   "source": [
    "def coef(i,j,knots,t):\n",
    "\tif j==0:\n",
    "\t\tif(t>=knots[i] and t< knots[i+1]):\n",
    "\t\t\treturn 1\n",
    "\t\telse :\n",
    "\t\t\treturn 0\n",
    "\telse:\n",
    "\t\tc1=coef(i,j-1,knots,t)\n",
    "\t\tc2=coef(i+1,j-1,knots,t)\n",
    "\t\ttry:\n",
    "\t\t\tt1=float(t-knots[i])/knots[i+j]-knots[i]\n",
    "\t\texcept ZeroDivisionError:\n",
    "\t\t\tt1=0\n",
    "\t\ttry:\n",
    "\t\t\tt2=float(knots[i+j+1]-t)/knots[i+j+1]-knots[i+1]\n",
    "\t\texcept ZeroDivisionError:\n",
    "\t\t\tt2=0\n",
    "\t\tt3=t1*c1+t2*c2\n",
    "\t\treturn t3"
   ]
  },
  {
   "cell_type": "markdown",
   "metadata": {
    "colab_type": "text",
    "id": "V578vVdXeidX"
   },
   "source": [
    "## Function to generate knots"
   ]
  },
  {
   "cell_type": "code",
   "execution_count": 4,
   "metadata": {
    "colab": {},
    "colab_type": "code",
    "id": "WtwwFFhZZqHk"
   },
   "outputs": [],
   "source": [
    "'''\n",
    "N+1 control points P1 to P N+1 \n",
    "Order K degree K-1\n",
    "knots length N+K+1\n",
    "\n",
    "'''\n",
    "def Gen_Knots(n,k,knots,start,constant):\n",
    "    num_of_knots = n+k+1\n",
    "    cur = start\n",
    "    for i in range(1, num_of_knots+1):\n",
    "        if i<k :\n",
    "            knots.append(cur)\n",
    "        elif k< i < n+2 :\n",
    "            cur += constant\n",
    "            knots.append(cur)\n",
    "        else:\n",
    "            knots.append(cur)\n",
    "    return knots\n",
    "\n",
    "\n"
   ]
  },
  {
   "cell_type": "code",
   "execution_count": 5,
   "metadata": {
    "colab": {},
    "colab_type": "code",
    "id": "OxzVG23iepFe"
   },
   "outputs": [],
   "source": [
    "def gen_coeff_points(t1,n):\n",
    "  co=[]\n",
    "  for t in t1:\n",
    "\t  temp=[]\n",
    "\t  for i in range(n):\n",
    "\t\t  temp1=coef(i,k,knots,t)\n",
    "\t\t  temp.append(temp1)\n",
    "\t  co.append(temp)\n",
    "  co=np.array(co)\n",
    "  co = co[:-1]\n",
    "  return co"
   ]
  },
  {
   "cell_type": "code",
   "execution_count": 6,
   "metadata": {
    "colab": {},
    "colab_type": "code",
    "id": "5saYpvEQe7lN"
   },
   "outputs": [],
   "source": [
    "k = 3\n",
    "control_points = np.asarray([[-4,-4],[-1,4],[2,-4],[4,4]])\n",
    "# control_points = np.asarray([[8,7],[4,6],[4,15],[10,12]]) #Uncomment this line to get a different curve\n",
    "n=len(control_points)\n",
    "knots = []\n",
    "knots = Gen_Knots(n,k+1,knots,0,1)\n",
    "t1 = np.linspace(knots[0],knots[-1],200) # Parameter t to plot the curve\n",
    "co = gen_coeff_points(t1,n) # Generate the coefficients for each of these points"
   ]
  },
  {
   "cell_type": "code",
   "execution_count": 7,
   "metadata": {
    "colab": {},
    "colab_type": "code",
    "id": "QFhJj62YZtwY"
   },
   "outputs": [],
   "source": [
    "x_cord = []\n",
    "y_cord = []\n",
    "\n",
    "for i in co:\n",
    "    tempx = np.sum(np.multiply(i,control_points[:,0]))  #Basis*control points\n",
    "    tempy = np.sum(np.multiply(i,control_points[:,1]))\n",
    "    x_cord.append(tempx)\n",
    "    y_cord.append(tempy)"
   ]
  },
  {
   "cell_type": "code",
   "execution_count": 8,
   "metadata": {
    "colab": {
     "base_uri": "https://localhost:8080/",
     "height": 282
    },
    "colab_type": "code",
    "id": "-XMQlxe1ZvXQ",
    "outputId": "bf55ce14-d532-4f5a-885c-2a4876354fa0"
   },
   "outputs": [
    {
     "data": {
      "text/plain": [
       "[<matplotlib.lines.Line2D at 0x211ae123c08>]"
      ]
     },
     "execution_count": 8,
     "metadata": {},
     "output_type": "execute_result"
    },
    {
     "data": {
      "image/png": "[encoded data removed]",
      "text/plain": [
       "<Figure size 432x288 with 1 Axes>"
      ]
     },
     "metadata": {
      "needs_background": "light"
     },
     "output_type": "display_data"
    }
   ],
   "source": [
    "plt.plot(control_points[:,0],control_points[:,1],'ok')\n",
    "plt.plot(control_points[:,0],control_points[:,1],':b')\n",
    "plt.plot(x_cord,y_cord,'r')"
   ]
  },
  {
   "cell_type": "markdown",
   "metadata": {
    "colab_type": "text",
    "id": "p0oPr7OB4HKi"
   },
   "source": [
    "\n",
    "# NURBS \n",
    "\n",
    "Weights are assigned for each Control Point\n",
    "\n",
    "Increasing weights will pull the curve closer to point and vice versa\n",
    "\n"
   ]
  },
  {
   "cell_type": "code",
   "execution_count": 9,
   "metadata": {
    "colab": {},
    "colab_type": "code",
    "id": "B_JOyizqgSzo"
   },
   "outputs": [],
   "source": [
    "def get_values(control_points,weights,n,knots,t1):\n",
    "  x_cord = []\n",
    "  y_cord = []\n",
    "  for t in t1[:-2]:\n",
    "    total_weight = 0\n",
    "    for i in range(n):\n",
    "      temp = coef(i,k,knots,t)*weights[i]\n",
    "      total_weight+=temp\n",
    "    if(total_weight==0):\n",
    "      total_weight=1\n",
    "    x_=0\n",
    "    y_=0\n",
    "    for point,r,i in zip(control_points,weights,range(n)):\n",
    "      temp = coef(i,k,knots,t)\n",
    "      x = point[0].astype(np.float32)\n",
    "      x = x* temp *r \n",
    "      x = x / total_weight\n",
    "      x_+=x\n",
    "\n",
    "      y = point[1].astype(np.float32)\n",
    "      y = y* temp *r \n",
    "      y = y / total_weight\n",
    "      y_+=y\n",
    "\n",
    "    x_cord.append(x_)\n",
    "    y_cord.append(y_)\n",
    "  return [x_cord,y_cord]\n",
    "\n"
   ]
  },
  {
   "cell_type": "code",
   "execution_count": 10,
   "metadata": {
    "colab": {},
    "colab_type": "code",
    "id": "haoTTr4TgNDB"
   },
   "outputs": [],
   "source": [
    "# Necessary values for calculation\n",
    "control_points = np.asarray([[-4,-4],[-1,4],[2,-4],[4,4]])\n",
    "n = len(control_points)\n",
    "knots = []\n",
    "knots = Gen_Knots(n,k+1,knots,0,1)\n",
    "t1 = np.linspace(knots[0],knots[-1],200)\n",
    "weights = [1,3,1,1]"
   ]
  },
  {
   "cell_type": "code",
   "execution_count": 11,
   "metadata": {
    "colab": {},
    "colab_type": "code",
    "id": "WWpci3ughJab"
   },
   "outputs": [],
   "source": [
    "x_ = []\n",
    "y_ = []\n",
    "for i in range(1,6):\n",
    "    weights = [1,i,1,1]\n",
    "    [x,y] = get_values(control_points,weights,n,knots,t1)\n",
    "    x_.append(x)\n",
    "    y_.append(y)\n"
   ]
  },
  {
   "cell_type": "code",
   "execution_count": 15,
   "metadata": {
    "colab": {
     "base_uri": "https://localhost:8080/",
     "height": 265
    },
    "colab_type": "code",
    "id": "pGBX_dPUhheh",
    "outputId": "4d514464-423c-4617-e821-e168b4b23187"
   },
   "outputs": [
    {
     "data": {
      "image/png": "[encoded data removed]",
      "text/plain": [
       "<Figure size 432x288 with 1 Axes>"
      ]
     },
     "metadata": {
      "needs_background": "light"
     },
     "output_type": "display_data"
    }
   ],
   "source": [
    "plt.plot(control_points[:,0],control_points[:,1],'ok')\n",
    "plt.plot(control_points[:,0],control_points[:,1],':b')\n",
    "for i in range(len(x_)):\n",
    "  curve = plt.plot(x_[i],y_[i],label = 'w= %s'%(i+1))\n",
    "plt.legend()\n",
    "plt.show()"
   ]
  }
 ],
 "metadata": {
  "colab": {
   "collapsed_sections": [],
   "name": "B-Spline.ipynb",
   "provenance": []
  },
  "kernelspec": {
   "display_name": "Python 3",
   "language": "python",
   "name": "python3"
  },
  "language_info": {
   "codemirror_mode": {
    "name": "ipython",
    "version": 3
   },
   "file_extension": ".py",
   "mimetype": "text/x-python",
   "name": "python",
   "nbconvert_exporter": "python",
   "pygments_lexer": "ipython3",
   "version": "3.7.4"
  }
 },
 "nbformat": 4,
 "nbformat_minor": 1
}
